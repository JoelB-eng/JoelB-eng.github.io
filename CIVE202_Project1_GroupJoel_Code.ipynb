{
 "cells": [
  {
   "cell_type": "markdown",
   "id": "410b5400-df34-4d95-a250-285839de0ba5",
   "metadata": {},
   "source": [
    "# Import Libraries and name database\n",
    "In this section I will import the necessary libraries and set the data to a database"
   ]
  },
  {
   "cell_type": "code",
   "execution_count": 20,
   "id": "8f0a9512-ba74-4460-9d7d-83c94cf49c22",
   "metadata": {},
   "outputs": [],
   "source": [
    "import pandas as pd\n",
    "nebraska_data = pd.read_csv('Nebraska_Violations_Formatted.csv')\n",
    "nebraska_data = pd.DataFrame(nebraska_data)"
   ]
  },
  {
   "cell_type": "markdown",
   "id": "b94f250e-a9ea-4dea-8346-7402f86533d4",
   "metadata": {},
   "source": [
    "# Task 2: Evaluation by system type\n",
    "In this section I will complete task two given to me by the client. I will evaluate and perform a statistical analysis on the types of violations (number per contaminant) per system type"
   ]
  },
  {
   "cell_type": "code",
   "execution_count": 23,
   "id": "d683657f-a747-4486-a0e1-8accbb3b4ea9",
   "metadata": {},
   "outputs": [
    {
     "name": "stdout",
     "output_type": "stream",
     "text": [
      "                mean  median  min   max\n",
      "pws_type                               \n",
      "CWS       103.423529    10.0    1  5348\n",
      "NTNCWS     29.041667     1.0    1   315\n",
      "TNCWS     359.444444    29.0    5  2059\n"
     ]
    }
   ],
   "source": [
    "system_violations = nebraska_data.groupby(['pws_type', 'contaminant']).size().reset_index(name='violations')\n",
    "stat_analysis = system_violations.groupby(['pws_type']).agg(\n",
    "    mean = ('violations','mean'), \n",
    "    median = ('violations','median'), \n",
    "    min = ('violations', 'min'),\n",
    "    max = ('violations', 'max'))\n",
    "print(stat_analysis)"
   ]
  },
  {
   "cell_type": "markdown",
   "id": "b3f0ef7f-e7fe-453d-9336-a91e498e2f6d",
   "metadata": {},
   "source": [
    "# Task 3: Evaluation of contaminents by population and system type\n",
    "In this section I will develop a code that will sort the violations by population, contaminents, and system type"
   ]
  },
  {
   "cell_type": "markdown",
   "id": "049c764f-98a2-4d12-8221-ca69b8707ebd",
   "metadata": {},
   "source": [
    "## Create and implement a function for population\n",
    "I will create a function that will sort my population into various size categories"
   ]
  },
  {
   "cell_type": "code",
   "execution_count": 27,
   "id": "d38101a4-cb24-49be-bf20-826043cb76c4",
   "metadata": {},
   "outputs": [],
   "source": [
    "def assign_category(x):\n",
    "    if x < 500:\n",
    "        return \"very small\"\n",
    "    elif 501 <= x <= 3300:\n",
    "        return \"small\"\n",
    "    elif 3301 <=x<= 10000:\n",
    "        return \"medium\"\n",
    "    elif 10001 <= x <= 100000:\n",
    "        return \"large\"\n",
    "    else:\n",
    "        return \"extra large\"\n",
    "nebraska_data['population_size'] = nebraska_data['population'].apply(assign_category)"
   ]
  },
  {
   "cell_type": "markdown",
   "id": "2e89a2f4-aa06-4d61-a557-57fdfc5be5b3",
   "metadata": {},
   "source": [
    "## Make an evaluation using the function\n",
    "I will now evaluate the data using the function above grouping by population size, system type, and contaminant"
   ]
  },
  {
   "cell_type": "code",
   "execution_count": 30,
   "id": "ea67b24e-8a09-43ad-a9e0-c0ce7f50136b",
   "metadata": {},
   "outputs": [
    {
     "name": "stdout",
     "output_type": "stream",
     "text": [
      "    pws_type                                        contaminant  \\\n",
      "0        CWS                              1,1,1-Trichloroethane   \n",
      "1        CWS                              1,1,1-Trichloroethane   \n",
      "2        CWS                              1,1,2-Trichloroethane   \n",
      "3        CWS                              1,1,2-Trichloroethane   \n",
      "4        CWS                               1,1-Dichloroethylene   \n",
      "..       ...                                                ...   \n",
      "227    TNCWS                                      Public Notice   \n",
      "228    TNCWS                        Revised Total Coliform Rule   \n",
      "229    TNCWS                        Revised Total Coliform Rule   \n",
      "230    TNCWS                        Revised Total Coliform Rule   \n",
      "231    TNCWS  Stage 1 Disinfectants and Disinfection Byprodu...   \n",
      "\n",
      "    population_size  total  \n",
      "0             small      8  \n",
      "1        very small      2  \n",
      "2             small      2  \n",
      "3        very small      2  \n",
      "4             large      1  \n",
      "..              ...    ...  \n",
      "227      very small    211  \n",
      "228     extra large      1  \n",
      "229           small      3  \n",
      "230      very small    372  \n",
      "231      very small      6  \n",
      "\n",
      "[232 rows x 4 columns]\n"
     ]
    }
   ],
   "source": [
    "system_population_violations = nebraska_data.groupby(['pws_type', 'contaminant','population_size']).size().reset_index(name='total')\n",
    "system_population_violations.to_csv(\"Task_3_Summary.csv\")\n",
    "print(system_population_violations)"
   ]
  },
  {
   "cell_type": "markdown",
   "id": "39b0eb91-279f-4812-ba56-4b16087192b6",
   "metadata": {},
   "source": [
    "# Task 4: Make A more detailed evaluation that focusing on small community water systems\n",
    "I will summarize the data on the small communities water systems by active systems, and maximum containment levels using filters"
   ]
  },
  {
   "cell_type": "code",
   "execution_count": 36,
   "id": "81541653-63a0-4aab-8bd8-7c97a23f4143",
   "metadata": {},
   "outputs": [
    {
     "name": "stdout",
     "output_type": "stream",
     "text": [
      "            primary_source                                     violation_type  \\\n",
      "0             Ground water       Maximum Contaminant Level Violation, Average   \n",
      "1             Ground water  Maximum Contaminant Level Violation, Single Sa...   \n",
      "2   Ground water purchased       Maximum Contaminant Level Violation, Average   \n",
      "3   Ground water purchased  Maximum Contaminant Level Violation, Single Sa...   \n",
      "4            Surface water       Maximum Contaminant Level Violation, Average   \n",
      "5  Surface water purchased       Maximum Contaminant Level Violation, Average   \n",
      "\n",
      "   Amount  \n",
      "0     416  \n",
      "1     204  \n",
      "2     109  \n",
      "3       1  \n",
      "4      34  \n",
      "5      11  \n"
     ]
    }
   ],
   "source": [
    "Filter1 = nebraska_data[(nebraska_data['activity_status'] == \"Active\") & \n",
    "    (nebraska_data['pws_type'] == \"CWS\")&\n",
    "    (nebraska_data['population_size'] == \"small\")&\n",
    "    ((nebraska_data['violation_type'] == \"Maximum Contaminant Level Violation, Average\")|\n",
    "    (nebraska_data['violation_type'] == \"Maximum Contaminant Level Violation, Single Sample\"))]\n",
    "summary = Filter1.groupby(['primary_source','violation_type']).size().reset_index(name = 'Amount')\n",
    "summary.to_csv('Task_4_Summary.csv')\n",
    "print(summary)"
   ]
  }
 ],
 "metadata": {
  "kernelspec": {
   "display_name": "anaconda-2024.02-py310",
   "language": "python",
   "name": "conda-env-anaconda-2024.02-py310-py"
  },
  "language_info": {
   "codemirror_mode": {
    "name": "ipython",
    "version": 3
   },
   "file_extension": ".py",
   "mimetype": "text/x-python",
   "name": "python",
   "nbconvert_exporter": "python",
   "pygments_lexer": "ipython3",
   "version": "3.10.14"
  }
 },
 "nbformat": 4,
 "nbformat_minor": 5
}
